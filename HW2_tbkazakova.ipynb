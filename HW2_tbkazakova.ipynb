{
 "cells": [
  {
   "cell_type": "markdown",
   "metadata": {},
   "source": [
    "# Домашнее задание №2"
   ]
  },
  {
   "cell_type": "markdown",
   "metadata": {},
   "source": [
    "### Тани Казаковой"
   ]
  },
  {
   "cell_type": "markdown",
   "metadata": {},
   "source": [
    "### Устанавливаем проверку PEP-8."
   ]
  },
  {
   "cell_type": "code",
   "execution_count": 1,
   "metadata": {},
   "outputs": [
    {
     "name": "stdout",
     "output_type": "stream",
     "text": [
      "Requirement already satisfied: pycodestyle in ./anaconda3/lib/python3.7/site-packages (2.5.0)\n",
      "Requirement already satisfied: flake8 in ./anaconda3/lib/python3.7/site-packages (3.7.8)\n",
      "Requirement already satisfied: pycodestyle_magic in ./anaconda3/lib/python3.7/site-packages (0.4)\n",
      "Requirement already satisfied: mccabe<0.7.0,>=0.6.0 in ./anaconda3/lib/python3.7/site-packages (from flake8) (0.6.1)\n",
      "Requirement already satisfied: pyflakes<2.2.0,>=2.1.0 in ./anaconda3/lib/python3.7/site-packages (from flake8) (2.1.1)\n",
      "Requirement already satisfied: entrypoints<0.4.0,>=0.3.0 in ./anaconda3/lib/python3.7/site-packages (from flake8) (0.3)\n"
     ]
    }
   ],
   "source": [
    "! pip3 install pycodestyle flake8 pycodestyle_magic"
   ]
  },
  {
   "cell_type": "code",
   "execution_count": 2,
   "metadata": {},
   "outputs": [],
   "source": [
    "%load_ext pycodestyle_magic\n",
    "%pycodestyle_on"
   ]
  },
  {
   "cell_type": "markdown",
   "metadata": {},
   "source": [
    "### Обрабатываем книгу с помощью Mystem"
   ]
  },
  {
   "cell_type": "markdown",
   "metadata": {},
   "source": [
    "#### Устанавливаем"
   ]
  },
  {
   "cell_type": "code",
   "execution_count": 3,
   "metadata": {},
   "outputs": [
    {
     "name": "stdout",
     "output_type": "stream",
     "text": [
      "Requirement already satisfied: pymystem3 in ./anaconda3/lib/python3.7/site-packages (0.2.0)\n",
      "Requirement already satisfied: requests in ./anaconda3/lib/python3.7/site-packages (from pymystem3) (2.22.0)\n",
      "Requirement already satisfied: idna<2.9,>=2.5 in ./anaconda3/lib/python3.7/site-packages (from requests->pymystem3) (2.8)\n",
      "Requirement already satisfied: chardet<3.1.0,>=3.0.2 in ./anaconda3/lib/python3.7/site-packages (from requests->pymystem3) (3.0.4)\n",
      "Requirement already satisfied: urllib3!=1.25.0,!=1.25.1,<1.26,>=1.21.1 in ./anaconda3/lib/python3.7/site-packages (from requests->pymystem3) (1.24.2)\n",
      "Requirement already satisfied: certifi>=2017.4.17 in ./anaconda3/lib/python3.7/site-packages (from requests->pymystem3) (2019.6.16)\n",
      "Note: you may need to restart the kernel to use updated packages.\n"
     ]
    }
   ],
   "source": [
    "pip install pymystem3"
   ]
  },
  {
   "cell_type": "code",
   "execution_count": 4,
   "metadata": {},
   "outputs": [],
   "source": [
    "from pymystem3 import Mystem"
   ]
  },
  {
   "cell_type": "markdown",
   "metadata": {},
   "source": [
    "#### Читаем файл"
   ]
  },
  {
   "cell_type": "code",
   "execution_count": 5,
   "metadata": {},
   "outputs": [],
   "source": [
    "with open('oblomov_goncharov.txt', encoding='utf-8') as f:\n",
    "    book = f.read()\n",
    "# print(book)  # проверить, что текст на месте"
   ]
  },
  {
   "cell_type": "markdown",
   "metadata": {},
   "source": [
    "####  Обрабатываем"
   ]
  },
  {
   "cell_type": "code",
   "execution_count": 6,
   "metadata": {},
   "outputs": [],
   "source": [
    "m = Mystem()"
   ]
  },
  {
   "cell_type": "code",
   "execution_count": 7,
   "metadata": {},
   "outputs": [],
   "source": [
    "from pprint import pprint"
   ]
  },
  {
   "cell_type": "code",
   "execution_count": 8,
   "metadata": {
    "scrolled": true
   },
   "outputs": [
    {
     "name": "stdout",
     "output_type": "stream",
     "text": [
      "15.443830728530884\n"
     ]
    }
   ],
   "source": [
    "import time\n",
    "start = time.time()\n",
    "razb_mys = m.analyze(book)\n",
    "end = time.time()\n",
    "print(end - start)\n",
    "# pprint(razb_mys)  # посмотреть, что получилось"
   ]
  },
  {
   "cell_type": "markdown",
   "metadata": {},
   "source": [
    "#### Переводим в JSON"
   ]
  },
  {
   "cell_type": "code",
   "execution_count": 9,
   "metadata": {},
   "outputs": [],
   "source": [
    "import json\n",
    "with open('razbor_mys.json', 'w', encoding='utf-8') as f:\n",
    "    for a_razb in razb_mys:\n",
    "        json.dump(a_razb, f, ensure_ascii=False)  # переводим в JSON\n",
    "        f.write('\\n')"
   ]
  },
  {
   "cell_type": "markdown",
   "metadata": {},
   "source": [
    "### Обрабатываем книгу с помощью Pymorthy"
   ]
  },
  {
   "cell_type": "markdown",
   "metadata": {},
   "source": [
    "#### Устанавливаем pymorthy и ntkl"
   ]
  },
  {
   "cell_type": "code",
   "execution_count": 10,
   "metadata": {},
   "outputs": [
    {
     "name": "stdout",
     "output_type": "stream",
     "text": [
      "Requirement already satisfied: pymorphy2 in ./anaconda3/lib/python3.7/site-packages (0.8)\n",
      "Requirement already satisfied: pymorphy2-dicts<3.0,>=2.4 in ./anaconda3/lib/python3.7/site-packages (from pymorphy2) (2.4.393442.3710985)\n",
      "Requirement already satisfied: docopt>=0.6 in ./anaconda3/lib/python3.7/site-packages (from pymorphy2) (0.6.2)\n",
      "Requirement already satisfied: dawg-python>=0.7 in ./anaconda3/lib/python3.7/site-packages (from pymorphy2) (0.7.2)\n",
      "Note: you may need to restart the kernel to use updated packages.\n"
     ]
    }
   ],
   "source": [
    "pip install pymorphy2"
   ]
  },
  {
   "cell_type": "code",
   "execution_count": 11,
   "metadata": {},
   "outputs": [],
   "source": [
    "from pymorphy2 import MorphAnalyzer\n",
    "morph = MorphAnalyzer()"
   ]
  },
  {
   "cell_type": "code",
   "execution_count": 12,
   "metadata": {},
   "outputs": [],
   "source": [
    "import nltk"
   ]
  },
  {
   "cell_type": "code",
   "execution_count": 13,
   "metadata": {},
   "outputs": [],
   "source": [
    "from nltk.tokenize import word_tokenize\n",
    "# nltk.download('stopwords')"
   ]
  },
  {
   "cell_type": "markdown",
   "metadata": {},
   "source": [
    "#### Разбиваем текст на слова"
   ]
  },
  {
   "cell_type": "code",
   "execution_count": 14,
   "metadata": {},
   "outputs": [],
   "source": [
    "tok_book = word_tokenize(book)"
   ]
  },
  {
   "cell_type": "code",
   "execution_count": 15,
   "metadata": {},
   "outputs": [],
   "source": [
    "# Кажется, не пригодилось\n",
    "from nltk.corpus import stopwords\n",
    "sw = stopwords.words('russian')  # загружаем нужный список стоп-слов"
   ]
  },
  {
   "cell_type": "code",
   "execution_count": 16,
   "metadata": {
    "scrolled": true
   },
   "outputs": [],
   "source": [
    "# приводим к нижнему регистру и оставляем только последовательности из букв\n",
    "words = [w.lower() for w in tok_book if w.isalpha()]\n",
    "# print(words)  # посмотреть, что получилось"
   ]
  },
  {
   "cell_type": "markdown",
   "metadata": {},
   "source": [
    "#### Разбираем"
   ]
  },
  {
   "cell_type": "code",
   "execution_count": 17,
   "metadata": {},
   "outputs": [
    {
     "name": "stdout",
     "output_type": "stream",
     "text": [
      "48.51103115081787\n"
     ]
    }
   ],
   "source": [
    "parsed_words = []\n",
    "start = time.time()\n",
    "for w in words:\n",
    "    parsed_words.append(morph.parse(w)[0])\n",
    "end = time.time()\n",
    "print(end - start)\n",
    "# pprint(parsed_words)  # посмотреть, что получилось"
   ]
  },
  {
   "cell_type": "markdown",
   "metadata": {},
   "source": [
    "#### Переводим в JSON"
   ]
  },
  {
   "cell_type": "code",
   "execution_count": 18,
   "metadata": {},
   "outputs": [],
   "source": [
    "with open('razbor_pym.json', 'w', encoding='utf-8') as f:\n",
    "    for w_razb in parsed_words:\n",
    "        w_to_json = {'word': w_razb.word,\n",
    "                     'lemma': w_razb.normal_form,\n",
    "                     'part': w_razb.tag.POS}\n",
    "        json.dump(w_to_json, f, ensure_ascii=False)\n",
    "        f.write('\\n')"
   ]
  },
  {
   "cell_type": "markdown",
   "metadata": {},
   "source": [
    "### Ответы на вопросы"
   ]
  },
  {
   "cell_type": "markdown",
   "metadata": {},
   "source": [
    "#### Какую долю слов составляет каждая часть речи?"
   ]
  },
  {
   "cell_type": "code",
   "execution_count": 19,
   "metadata": {},
   "outputs": [],
   "source": [
    "j_razbor_pym = []\n",
    "for line in open('razbor_pym.json'):\n",
    "    j_razbor_pym.append(json.loads(line))"
   ]
  },
  {
   "cell_type": "code",
   "execution_count": 20,
   "metadata": {},
   "outputs": [
    {
     "name": "stdout",
     "output_type": "stream",
     "text": [
      "Доля NOUN - 0.2351339773088457.\n",
      "Доля ADJF - 0.08240399098987052.\n",
      "Доля VERB - 0.1516175393502204.\n",
      "Доля CONJ - 0.11666873954921714.\n",
      "Доля ADVB - 0.0663253320066885.\n",
      "Доля ADJS - 0.009860011331757942.\n",
      "Доля PREP - 0.10021696170694969.\n",
      "Доля PRCL - 0.07032599532910465.\n",
      "Доля PRTF - 0.006149551566408247.\n",
      "Доля None - 0.0015062946533449416.\n",
      "Доля NUMR - 0.005610602103284828.\n",
      "Доля NPRO - 0.0992703453422329.\n",
      "Доля INFN - 0.027873360695383.\n",
      "Доля GRND - 0.010433508837389274.\n",
      "Доля COMP - 0.0036897309398449484.\n",
      "Доля PRTS - 0.0019415999889446263.\n",
      "Доля PRED - 0.007648936611251607.\n",
      "Доля INTJ - 0.0033235216892610864.\n"
     ]
    }
   ],
   "source": [
    "import collections\n",
    "POS_razb = []\n",
    "for razb_p in j_razbor_pym:\n",
    "    if \"part\" in razb_p:\n",
    "        POS_razb.append(razb_p['part'])\n",
    "counter = collections.Counter(POS_razb)\n",
    "# получили кол-во слов каждой части речи\n",
    "# print(counter)  # посмотреть, что получилось\n",
    "\n",
    "for part in counter:\n",
    "    dol = str(counter[part]/len(j_razbor_pym))\n",
    "    print('Доля ' + str(part) + ' - ' + dol + '.')\n",
    "    # None - для слов без части речи"
   ]
  },
  {
   "cell_type": "markdown",
   "metadata": {},
   "source": [
    "#### Найдите топ-20 глаголов"
   ]
  },
  {
   "cell_type": "code",
   "execution_count": 21,
   "metadata": {},
   "outputs": [
    {
     "name": "stdout",
     "output_type": "stream",
     "text": [
      "20 самых популярных глаголов: \n",
      "быть - 0.05792279998177095\n",
      "сказать - 0.04147108417262908\n",
      "говорить - 0.024973795743517296\n",
      "спросить - 0.01886706466754774\n",
      "мочь - 0.017044159868750856\n",
      "знать - 0.01339835027115709\n",
      "стать - 0.012076744292029349\n",
      "хотеть - 0.011256437132570752\n",
      "думать - 0.009205669233924258\n",
      "смотреть - 0.008066353734676207\n",
      "видеть - 0.008066353734676207\n",
      "любить - 0.00747390967506722\n",
      "отвечать - 0.007200473955247687\n",
      "дать - 0.007063756095337921\n",
      "прибавить - 0.00638016679578909\n",
      "пойти - 0.006289021555849246\n",
      "идти - 0.005651004876270337\n",
      "делать - 0.0056054322563004145\n",
      "начать - 0.0055142870163605705\n",
      "жить - 0.005468714396390648\n"
     ]
    }
   ],
   "source": [
    "VERB_razb = []\n",
    "for razb_p in j_razbor_pym:\n",
    "    if \"part\" in razb_p:\n",
    "        if \"lemma\" in razb_p:\n",
    "            if razb_p['part'] == 'VERB':\n",
    "                VERB_razb.append(razb_p['lemma'])\n",
    "verb_counter = collections.Counter(VERB_razb)\n",
    "# print(verb_counter)  # посмотреть, что получилось\n",
    "print('20 самых популярных глаголов: ')\n",
    "i = 0\n",
    "for verb in verb_counter.most_common():\n",
    "    print(verb[0] + ' - ' + str(verb[1]/len(VERB_razb)))\n",
    "    i += 1\n",
    "    if i > 19:\n",
    "        break"
   ]
  },
  {
   "cell_type": "markdown",
   "metadata": {},
   "source": [
    "#### Найдите топ-20 наречий"
   ]
  },
  {
   "cell_type": "code",
   "execution_count": 22,
   "metadata": {},
   "outputs": [
    {
     "name": "stdout",
     "output_type": "stream",
     "text": [
      "20 самых популярных наречий: \n",
      "потом - 0.04229607250755287\n",
      "там - 0.032711740806333996\n",
      "вдруг - 0.032607563287842485\n",
      "опять - 0.03104490051046984\n",
      "теперь - 0.026356912178351913\n",
      "где - 0.024690071882487757\n",
      "уж - 0.02010626106886134\n",
      "тут - 0.019377018439420773\n",
      "иногда - 0.016460047921658505\n",
      "никогда - 0.01593916032920096\n",
      "уже - 0.014584852588811335\n",
      "почти - 0.014168142514845296\n",
      "зачем - 0.011667882071049067\n",
      "тоже - 0.01125117199708303\n",
      "хорошо - 0.010834461923116991\n",
      "тогда - 0.010521929367642463\n",
      "здесь - 0.010417751849150954\n",
      "вон - 0.010209396812167934\n",
      "давно - 0.009896864256693406\n",
      "наконец - 0.009688509219710387\n"
     ]
    }
   ],
   "source": [
    "ADVB_razb = []\n",
    "for razb_p in j_razbor_pym:\n",
    "    if \"part\" in razb_p:\n",
    "        if \"lemma\" in razb_p:\n",
    "            if razb_p['part'] == 'ADVB':\n",
    "                ADVB_razb.append(razb_p['lemma'])\n",
    "advb_counter = collections.Counter(ADVB_razb)\n",
    "# print(advb_counter)  # посмотреть, что получилось\n",
    "print('20 самых популярных наречий: ')\n",
    "i = 0\n",
    "for advb in advb_counter.most_common():\n",
    "    print(advb[0] + ' - ' + str(advb[1]/len(ADVB_razb)))\n",
    "    i += 1\n",
    "    if i > 19:\n",
    "        break"
   ]
  },
  {
   "cell_type": "markdown",
   "metadata": {},
   "source": [
    "### Получаем текст из лемм"
   ]
  },
  {
   "cell_type": "code",
   "execution_count": 23,
   "metadata": {},
   "outputs": [],
   "source": [
    "text_to_lem = ' '.join(words)\n",
    "lemmas = m.lemmatize(text_to_lem)\n",
    "text_lemm = []\n",
    "for lemma in lemmas:\n",
    "    if lemma != ' ':\n",
    "        if lemma != '\\n':\n",
    "            text_lemm.append(lemma)\n",
    "# print(text_lemm)  # посмотреть, что получилось"
   ]
  },
  {
   "cell_type": "markdown",
   "metadata": {},
   "source": [
    "### Топ-25 биграмм"
   ]
  },
  {
   "cell_type": "code",
   "execution_count": 24,
   "metadata": {},
   "outputs": [
    {
     "name": "stdout",
     "output_type": "stream",
     "text": [
      "25 биграмм: \n",
      "и не\n",
      "илья ильич\n",
      "он не\n",
      "сказать он\n",
      "я не\n",
      "у он\n",
      "не быть\n",
      "он и\n",
      "на он\n",
      "как будто\n",
      "не знать\n",
      "что я\n",
      "что он\n",
      "он в\n",
      "что ж\n",
      "мочь быть\n",
      "сказать она\n",
      "она не\n",
      "не мочь\n",
      "у она\n",
      "и в\n",
      "сказать обломов\n",
      "что это\n",
      "ничто не\n",
      "что ты\n"
     ]
    }
   ],
   "source": [
    "bigr_l = list(nltk.bigrams(text_lemm))\n",
    "bigr_counter = collections.Counter(bigr_l)\n",
    "print('25 биграмм: ')\n",
    "i = 0\n",
    "for bigr in bigr_counter.most_common():\n",
    "    print(bigr[0][0] + \" \" + bigr[0][1])\n",
    "    i += 1\n",
    "    if i > 24:\n",
    "        break"
   ]
  },
  {
   "cell_type": "markdown",
   "metadata": {},
   "source": [
    "### Топ-25 триграмм"
   ]
  },
  {
   "cell_type": "code",
   "execution_count": 25,
   "metadata": {},
   "outputs": [
    {
     "name": "stdout",
     "output_type": "stream",
     "text": [
      "25 триграмм: \n",
      "в самый дело\n",
      "глядеть на он\n",
      "что ж ты\n",
      "не знать что\n",
      "на другой день\n",
      "что это за\n",
      "до сей пора\n",
      "сказать илья ильич\n",
      "в первый раз\n",
      "по крайний мера\n",
      "у он в\n",
      "смотреть на он\n",
      "и тот же\n",
      "что он не\n",
      "он и не\n",
      "и не знать\n",
      "с тот пора\n",
      "глядеть на она\n",
      "что ж это\n",
      "один и тот\n",
      "что это такой\n",
      "на выборгский сторона\n",
      "илья ильич и\n",
      "я ничто не\n",
      "поглядеть на он\n"
     ]
    }
   ],
   "source": [
    "threegr_l = list(nltk.ngrams(text_lemm, 3))\n",
    "threegr_counter = collections.Counter(threegr_l)\n",
    "print('25 триграмм: ')\n",
    "i = 0\n",
    "for threegr in threegr_counter.most_common():\n",
    "    print(threegr[0][0] + \" \" + threegr[0][1] + \" \" + threegr[0][2])\n",
    "    i += 1\n",
    "    if i > 24:\n",
    "        break"
   ]
  }
 ],
 "metadata": {
  "kernelspec": {
   "display_name": "Python 3",
   "language": "python",
   "name": "python3"
  },
  "language_info": {
   "codemirror_mode": {
    "name": "ipython",
    "version": 3
   },
   "file_extension": ".py",
   "mimetype": "text/x-python",
   "name": "python",
   "nbconvert_exporter": "python",
   "pygments_lexer": "ipython3",
   "version": "3.7.3"
  }
 },
 "nbformat": 4,
 "nbformat_minor": 2
}
